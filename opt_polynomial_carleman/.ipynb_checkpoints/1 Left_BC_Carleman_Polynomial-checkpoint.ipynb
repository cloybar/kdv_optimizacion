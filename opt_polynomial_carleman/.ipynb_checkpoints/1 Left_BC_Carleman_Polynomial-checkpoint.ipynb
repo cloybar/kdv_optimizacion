{
 "cells": [
  {
   "cell_type": "code",
   "execution_count": 1,
   "metadata": {},
   "outputs": [],
   "source": [
    "import numpy as np\n",
    "import pandas as pd\n",
    "import scipy as sp\n",
    "from scipy.optimize import minimize"
   ]
  },
  {
   "cell_type": "markdown",
   "metadata": {},
   "source": [
    "## Problema principal"
   ]
  },
  {
   "cell_type": "markdown",
   "metadata": {},
   "source": [
    "Buscamos minimizar las cantidades $$K_1=(4b+c-4a)C_1$$ y $$K_2=(4b+c-4a)C_2$$ provenientes de la función\n",
    "$$K(\\tau)=K_1+K_2\\tau^{1/2}-\\tfrac{2}{3\\sqrt{3}}(\\tau-1)^{3/2}.$$\n",
    "Para esto, establecemos el problema de minimización $(P)$ dado por\n",
    "$$\\min_{(a, b, c, C_1, C_2)\\in X}\\ K_1^2+K_2^2$$\n",
    "donde $X\\subset \\mathbb{R}^5$ es el espacio de restricciones del problema."
   ]
  },
  {
   "cell_type": "markdown",
   "metadata": {},
   "source": [
    "## Problema de optimización\n",
    "\n",
    "A continuación se define la función _objetivo_ del problema de optimización, seguido de las _constraints_ de dicho problema.\n",
    "\n",
    "*_Observación_*: por comodidad, en el código se consideró $C_1=A^{-1}, C_2=B^{-1}$ y $C_3=C^{1/2}$."
   ]
  },
  {
   "cell_type": "code",
   "execution_count": 2,
   "metadata": {},
   "outputs": [],
   "source": [
    "def objective(x):\n",
    "    a=x[0]\n",
    "    b=x[1]\n",
    "    c=x[2]\n",
    "    A=x[3]\n",
    "    B=x[4]\n",
    "    return ((4*b+c-4*a)**2)*(1/(A**2)+1/(B**2))\n",
    "def constraint1(x):\n",
    "    a=x[0]\n",
    "    b=x[1]\n",
    "    c=x[2]\n",
    "    A=x[3]\n",
    "    B=x[4]\n",
    "    return 14*a*(b-2*a)**4-1.5*(b**3)*(A**2)-1.5*(b+c-a)*a*b*(A**2)-1.5*a*(b**2)*(B**2)-0.75*(b+c-a)*(A**4)-0.125*b*(A**2)*(B**2)\n",
    "def constraint2(x):\n",
    "    a=x[0]\n",
    "    b=x[1]\n",
    "    c=x[2]\n",
    "    A=x[3]\n",
    "    B=x[4]\n",
    "    return 6*a*(b-2*a)**2-1.5*b*(A**2)-0.75*a*(B**2)\n",
    "def constraint3(x):\n",
    "    a=x[0]\n",
    "    b=x[1]\n",
    "    c=x[2]\n",
    "    A=x[3]\n",
    "    B=x[4]\n",
    "    return 4*(b-2*a)**3-0.25*(b+c-a)*(A**2)-3*(a**2)/((b-2*a)*C)-2*(b-2*a)*(B**2)\n",
    "def constraint4(x):\n",
    "    return x[1]-2*x[0]"
   ]
  },
  {
   "cell_type": "markdown",
   "metadata": {},
   "source": [
    "Se da un punto inicial $x_0$ y se definen las restricciones del problema."
   ]
  },
  {
   "cell_type": "code",
   "execution_count": 3,
   "metadata": {},
   "outputs": [],
   "source": [
    "x0=[1, 8, 0.5, 3, 3]\n",
    "\n",
    "#restricciones\n",
    "con1={'type':'ineq', 'fun': constraint1}\n",
    "con2={'type':'ineq', 'fun': constraint2}\n",
    "con3={'type':'ineq', 'fun': constraint3}\n",
    "con4={'type':'ineq', 'fun': constraint4}\n",
    "cons=[con1, con2, con3, con4]"
   ]
  },
  {
   "cell_type": "markdown",
   "metadata": {},
   "source": [
    "### Primer acercamiento\n",
    "\n",
    "Fijamos $C_3$ suficientemente grande para resolver el problema. Debido a la libertad de las variables, resolvemos el problema $(P)$ a medida que iteramos sobre las cotas inferiores de $C_1$ y $C_2$. Por la naturaleza del problema original, podemos fijar cotas inferiores para $a, b$ y $c$."
   ]
  },
  {
   "cell_type": "code",
   "execution_count": 4,
   "metadata": {},
   "outputs": [
    {
     "name": "stdout",
     "output_type": "stream",
     "text": [
      "---------------------------- Solución ----------------------------\n",
      "val(P)= 71.22234490163238\n",
      "Solución del problema: a=10.392314734393258, b=90.68876636523513, c=0.01, C1=1/43.30119620959022, C2=1/79.80200501253132\n",
      "El valor de K1 es  7.417712087414111\n",
      "El valor de K2 es  4.024908979078033\n"
     ]
    }
   ],
   "source": [
    "C=10000000 # 10^7\n",
    "lista=np.linspace(1, 80, 400).tolist()\n",
    "val_p_min=100\n",
    "sol_p_min=[10, 10, 10, 10, 10]\n",
    "\n",
    "for j in lista:\n",
    "    b1=(1, j)\n",
    "    b=(0.01, None)\n",
    "    # Cotas de las variables\n",
    "    bnds=(b, b, b, b1, b1)\n",
    "    # No definimos tipo de solver\n",
    "    sol=minimize(objective, x0, bounds=bnds, constraints=cons)\n",
    "    # Nos aseguramos de que, en efecto, se satisfagan las restricciones\n",
    "    # Guardamos la mínima solución\n",
    "    if sol.fun<val_p_min and constraint1(sol.x)>0 and constraint2(sol.x)>0 and constraint3(sol.x)>0 and constraint4(sol.x)>0:\n",
    "        val_p_min=sol.fun\n",
    "        sol_p_min=sol.x\n",
    "        \n",
    "print(\"---------------------------- Solución ----------------------------\")\n",
    "print(\"val(P)=\", val_p_min)\n",
    "print(\"Solución del problema: a=%s, b=%s, c=%s, C1=1/%s, C2=1/%s\" %tuple(sol_p_min))\n",
    "print(\"El valor de K1 es \", (4*sol_p_min[1]+sol_p_min[2]-4*sol_p_min[0])*(1/sol_p_min[3]))\n",
    "print(\"El valor de K2 es \", (4*sol_p_min[1]+sol_p_min[2]-4*sol_p_min[0])*(1/sol_p_min[4]))"
   ]
  },
  {
   "cell_type": "code",
   "execution_count": 5,
   "metadata": {},
   "outputs": [
    {
     "name": "stdout",
     "output_type": "stream",
     "text": [
      "71.22234490163238\n",
      "0.0004653334617614746\n",
      "1.4260876923799515e-09\n",
      "438378.02573545603\n"
     ]
    }
   ],
   "source": [
    "print(objective(sol_p_min))\n",
    "print(constraint1(sol_p_min))\n",
    "print(constraint2(sol_p_min))\n",
    "print(constraint3(sol_p_min))"
   ]
  },
  {
   "cell_type": "markdown",
   "metadata": {},
   "source": [
    "### Comportamiento de $val(P)$"
   ]
  },
  {
   "cell_type": "markdown",
   "metadata": {},
   "source": [
    "Al disminuir la cota inferior de $C_1$ y $C_2$ vemos que $val(P)$ tiene chance de decrecer, debido a que la función objetivo es decreciente respecto a dichos parámetros. En efecto, en la siguiente iteración, fijando como cota inferior $10^3$ podemos apreciar tal comportamiento, y a su vez, obtener la misma conclusión tanto para $K_1$ como para $K_2$."
   ]
  },
  {
   "cell_type": "code",
   "execution_count": 6,
   "metadata": {},
   "outputs": [
    {
     "name": "stdout",
     "output_type": "stream",
     "text": [
      "---------------------------- Nueva iteración ----------------------------\n",
      "val(P)= 71.23647262081964\n",
      "El valor de K1 es  7.418278281311789\n",
      "El valor de K2 es  4.025620444333699\n",
      "---------------------------- Nueva iteración ----------------------------\n",
      "val(P)= 71.22705334648721\n",
      "El valor de K1 es  7.417899059220794\n",
      "El valor de K2 es  4.025149300795993\n",
      "---------------------------- Nueva iteración ----------------------------\n",
      "val(P)= 71.22217270434035\n",
      "El valor de K1 es  7.417646359605643\n",
      "El valor de K2 es  4.025008719017826\n",
      "---------------------------- Nueva iteración ----------------------------\n",
      "val(P)= 71.22118941950248\n",
      "El valor de K1 es  7.417005204715243\n",
      "El valor de K2 es  4.026067959278567\n",
      "---------------------------- Nueva iteración ----------------------------\n",
      "val(P)= 71.22052885531701\n",
      "El valor de K1 es  7.4168758366939675\n",
      "El valor de K2 es  4.026224245913556\n",
      "---------------------------- Nueva iteración ----------------------------\n",
      "val(P)= 71.2200570068944\n",
      "El valor de K1 es  7.416746576662754\n",
      "El valor de K2 es  4.026403758250744\n",
      "---------------------------- Nueva iteración ----------------------------\n",
      "val(P)= 71.2197077210832\n",
      "El valor de K1 es  7.416497178940951\n",
      "El valor de K2 es  4.026819752092726\n",
      "---------------------------- Nueva iteración ----------------------------\n",
      "val(P)= 71.21942739214322\n",
      "El valor de K1 es  7.416553308157855\n",
      "El valor de K2 es  4.026681564191039\n",
      "---------------------------- Nueva iteración ----------------------------\n",
      "val(P)= 71.2192016559042\n",
      "El valor de K1 es  7.416639712721881\n",
      "El valor de K2 es  4.026494384397038\n",
      "---------------------------- Nueva iteración ----------------------------\n",
      "val(P)= 71.21901933064623\n",
      "El valor de K1 es  7.416631696485004\n",
      "El valor de K2 es  4.026486509270857\n",
      "---------------------------- Nueva iteración ----------------------------\n",
      "val(P)= 71.22563752795028\n",
      "El valor de K1 es  7.418789331986201\n",
      "El valor de K2 es  4.023332247721784\n",
      "---------------------------- Nueva iteración ----------------------------\n",
      "val(P)= 71.22573971223709\n",
      "El valor de K1 es  7.418815582141721\n",
      "El valor de K2 es  4.023296542688382\n",
      "---------------------------- Nueva iteración ----------------------------\n",
      "val(P)= 71.2258103125736\n",
      "El valor de K1 es  7.418811023116684\n",
      "El valor de K2 es  4.023313723270407\n",
      "---------------------------- Nueva iteración ----------------------------\n",
      "val(P)= 71.21835986466094\n",
      "El valor de K1 es  7.417551199501149\n",
      "El valor de K2 es  4.024710432744198\n",
      "---------------------------- Nueva iteración ----------------------------\n",
      "val(P)= 71.21953809160915\n",
      "El valor de K1 es  7.417663839879416\n",
      "El valor de K2 es  4.0246492083353695\n",
      "---------------------------- Nueva iteración ----------------------------\n",
      "val(P)= 71.21967895595782\n",
      "El valor de K1 es  7.4176453209067414\n",
      "El valor de K2 es  4.024700839713202\n",
      "---------------------------- Nueva iteración ----------------------------\n",
      "val(P)= 71.21982318833514\n",
      "El valor de K1 es  7.417714926716371\n",
      "El valor de K2 es  4.024590470383822\n",
      "---------------------------- Nueva iteración ----------------------------\n",
      "val(P)= 71.2180594111378\n",
      "El valor de K1 es  7.417529087061995\n",
      "El valor de K2 es  4.02471385985725\n",
      "---------------------------- Nueva iteración ----------------------------\n",
      "val(P)= 71.22032500875542\n",
      "El valor de K1 es  7.417679562862544\n",
      "El valor de K2 es  4.024717991542611\n",
      "---------------------------- Nueva iteración ----------------------------\n",
      "val(P)= 71.21786931299168\n",
      "El valor de K1 es  7.417540275696611\n",
      "El valor de K2 es  4.024669622641134\n",
      "---------------------------- Nueva iteración ----------------------------\n",
      "val(P)= 71.21784914012026\n",
      "El valor de K1 es  7.41772640109775\n",
      "El valor de K2 es  4.024324064806125\n",
      "---------------------------- Nueva iteración ----------------------------\n",
      "val(P)= 71.22056686320549\n",
      "El valor de K1 es  7.4176689982783\n",
      "El valor de K2 es  4.024767508215411\n",
      "---------------------------- Nueva iteración ----------------------------\n",
      "val(P)= 71.22051293944115\n",
      "El valor de K1 es  7.417668554857598\n",
      "El valor de K2 es  4.024761626446705\n",
      "---------------------------- Nueva iteración ----------------------------\n",
      "val(P)= 71.22058772013315\n",
      "El valor de K1 es  7.417452427284647\n",
      "El valor de K2 es  4.025169214965038\n",
      "---------------------------- Nueva iteración ----------------------------\n",
      "val(P)= 71.22030856420643\n",
      "El valor de K1 es  7.417759798833698\n",
      "El valor de K2 es  4.024568067633231\n",
      "---------------------------- Nueva iteración ----------------------------\n",
      "val(P)= 71.22050802055331\n",
      "El valor de K1 es  7.417670020241956\n",
      "El valor de K2 es  4.024758314651578\n",
      "---------------------------- Nueva iteración ----------------------------\n",
      "val(P)= 71.2202435155854\n",
      "El valor de K1 es  7.417647469072492\n",
      "El valor de K2 es  4.0247670168778535\n",
      "---------------------------- Nueva iteración ----------------------------\n",
      "val(P)= 71.22035435137278\n",
      "El valor de K1 es  7.417660426629987\n",
      "El valor de K2 es  4.024756905277661\n",
      "---------------------------- Nueva iteración ----------------------------\n",
      "val(P)= 71.22037413776152\n",
      "El valor de K1 es  7.417647621809738\n",
      "El valor de K2 es  4.024782962648032\n",
      "---------------------------- Nueva iteración ----------------------------\n",
      "val(P)= 71.22058423619931\n",
      "El valor de K1 es  7.417673181623474\n",
      "El valor de K2 es  4.024761956541431\n",
      "---------------------------- Nueva iteración ----------------------------\n",
      "val(P)= 71.22023453026752\n",
      "El valor de K1 es  7.417646359452012\n",
      "El valor de K2 es  4.024767945655482\n",
      "---------------------------- Nueva iteración ----------------------------\n",
      "val(P)= 71.21861069739728\n",
      "El valor de K1 es  7.417575030734802\n",
      "El valor de K2 es  4.024697673219307\n",
      "---------------------------- Nueva iteración ----------------------------\n",
      "val(P)= 71.22028795152214\n",
      "El valor de K1 es  7.417658378258999\n",
      "El valor de K2 es  4.024752431512556\n",
      "---------------------------- Nueva iteración ----------------------------\n",
      "val(P)= 71.22011611327011\n",
      "El valor de K1 es  7.4176496843304776\n",
      "El valor de K2 es  4.0247471068157905\n",
      "---------------------------- Nueva iteración ----------------------------\n",
      "val(P)= 71.2193155278213\n",
      "El valor de K1 es  7.417608241494236\n",
      "El valor de K2 es  4.024724028245676\n",
      "---------------------------- Nueva iteración ----------------------------\n",
      "val(P)= 71.21978455482193\n",
      "El valor de K1 es  7.417629195800644\n",
      "El valor de K2 es  4.024743677357334\n",
      "---------------------------- Nueva iteración ----------------------------\n",
      "val(P)= 71.22274136368449\n",
      "El valor de K1 es  7.418061536339922\n",
      "El valor de K2 es  4.024314153586759\n"
     ]
    }
   ],
   "source": [
    "lista=np.linspace(1, 1000).tolist()\n",
    "for j in lista:\n",
    "    b1=(1, j)\n",
    "    b=(0.01, None)\n",
    "    # Cotas de las variables\n",
    "    bnds=(b, b, b, b1, b1)\n",
    "    # No definimos tipo de solver\n",
    "    sol=minimize(objective, x0, bounds=bnds, constraints=cons)\n",
    "    # Nos aseguramos de que, en efecto, se satisfagan las restricciones\n",
    "    if constraint1(sol.x)>0 and constraint2(sol.x)>0 and constraint3(sol.x)>0 and constraint4(sol.x)>0:\n",
    "        print(\"---------------------------- Nueva iteración ----------------------------\")\n",
    "        print(\"val(P)=\", sol.fun)\n",
    "        print(\"El valor de K1 es \", (4*sol.x[1]+sol.x[2]-4*sol.x[0])*(1/sol.x[3]))\n",
    "        print(\"El valor de K2 es \", (4*sol.x[1]+sol.x[2]-4*sol.x[0])*(1/sol.x[4]))"
   ]
  },
  {
   "cell_type": "markdown",
   "metadata": {},
   "source": [
    "### Segundo acercamiento"
   ]
  },
  {
   "cell_type": "markdown",
   "metadata": {},
   "source": [
    "Se conjetura que $val(P)>71.22$ (en base a una cota inferior para $C_1, C_2$ de $10^{-3}$). Al disminuir la cota inferior de las variables $C_1$ y $C_2$, las mejoras obtenidas en la cota inferior del parámetro $\\eta$ son del orden de $10^{-3}$, lo cual consideramos no significativo. Considerar además que el solver puede no dar buenos resultados con números de orden menor.\n",
    "\n",
    "Establecido este rango, vemos que es más significativo disminuir $K_2$ sin que aumente (demasiado) $K_1$, por lo cual consideramos, esencialmente, un nuevo problema de optimización $(S)$ (que depende de $C_1$) donde la función objetivo es $K_2$, con las mismas restricciones del problema $(P)$ pero con una nueva restricción que capture el rango de valores mínimos del problema inicial. En otras palabras $$(S)\\ \\min_{(a, b, c, C_2)\\in Y}\\ K_2$$\n",
    "donde $Y\\subset \\mathbb{R}^4$ es el espacio de restricciones del problema."
   ]
  },
  {
   "cell_type": "code",
   "execution_count": 7,
   "metadata": {},
   "outputs": [
    {
     "name": "stdout",
     "output_type": "stream",
     "text": [
      "---------------------------- Solución ----------------------------\n",
      "val(P)= 4.009371963386333\n",
      "C1=1/%s 1.5\n",
      "Solución del problema: a=0.35967547739936895, b=3.145648459453747, c=0.010000000000000174, C2=1/2.7819548872180184\n",
      "El valor de K1 es  7.435927952145008\n",
      "El valor de K2 es  4.009371963386333\n",
      "---------------------------- Solución ----------------------------\n",
      "val(P)= 3.805469662879118\n",
      "C1=1/%s 1.6\n",
      "Solución del problema: a=0.3819801470829627, b=3.402873337891685, c=0.010000000000002328, C2=1/3.1779448621553885\n",
      "El valor de K1 es  7.558482977021806\n",
      "El valor de K2 es  3.8054696628791174\n",
      "---------------------------- Solución ----------------------------\n",
      "val(P)= 3.805469662879118\n",
      "C1=1/%s 1.7\n",
      "Solución del problema: a=0.3819801470829627, b=3.402873337891685, c=0.010000000000002328, C2=1/3.1779448621553885\n",
      "El valor de K1 es  7.113866331314641\n",
      "El valor de K2 es  3.8054696628791174\n",
      "---------------------------- Solución ----------------------------\n",
      "val(P)= 3.805469662879118\n",
      "C1=1/%s 1.8\n",
      "Solución del problema: a=0.3819801470829627, b=3.402873337891685, c=0.010000000000002328, C2=1/3.1779448621553885\n",
      "El valor de K1 es  6.718651535130495\n",
      "El valor de K2 es  3.8054696628791174\n",
      "---------------------------- Solución ----------------------------\n",
      "val(P)= 3.805469662879118\n",
      "C1=1/%s 1.9\n",
      "Solución del problema: a=0.3819801470829627, b=3.402873337891685, c=0.010000000000002328, C2=1/3.1779448621553885\n",
      "El valor de K1 es  6.365038296439415\n",
      "El valor de K2 es  3.8054696628791174\n",
      "---------------------------- Solución ----------------------------\n",
      "val(P)= 3.7418022210336677\n",
      "C1=1/%s 2.0\n",
      "Solución del problema: a=0.47682030697647115, b=4.274320306976467, c=0.01, C2=1/4.062213634530637\n",
      "El valor de K1 es  7.5999999999999925\n",
      "El valor de K2 es  3.741802221033668\n"
     ]
    }
   ],
   "source": [
    "def objective(x):\n",
    "    a=x[0]\n",
    "    b=x[1]\n",
    "    c=x[2]\n",
    "    B=x[3]\n",
    "    return (4*b+c-4*a)/B\n",
    "def constraint1(x):\n",
    "    a=x[0]\n",
    "    b=x[1]\n",
    "    c=x[2]\n",
    "    B=x[3]\n",
    "    return 14*a*(b-2*a)**4-1.5*(b**3)*(A**2)-1.5*(b+c-a)*a*b*(A**2)-1.5*a*(b**2)*(B**2)-0.75*(b+c-a)*(A**4)-0.125*b*(A**2)*(B**2)\n",
    "def constraint2(x):\n",
    "    a=x[0]\n",
    "    b=x[1]\n",
    "    c=x[2]\n",
    "    B=x[3]\n",
    "    return 6*a*(b-2*a)**2-1.5*b*(A**2)-0.75*a*(B**2)\n",
    "def constraint3(x):\n",
    "    a=x[0]\n",
    "    b=x[1]\n",
    "    c=x[2]\n",
    "    B=x[3]\n",
    "    return 4*(b-2*a)**3-0.25*(b+c-a)*(A**2)-3*(a**2)/((b-2*a)*C)-2*(b-2*a)*(B**2)\n",
    "def constraint4(x):\n",
    "    return x[1]-2*x[0]\n",
    "def constraint5(x):\n",
    "    a=x[0]\n",
    "    b=x[1]\n",
    "    c=x[2]\n",
    "    B=x[3]\n",
    "    return 7.6*A-(4*b+c-4*a)\n",
    "\n",
    "x0=[1, 8, 0.5, 3]\n",
    "\n",
    "# Añadimos la nueva restricción\n",
    "con1={'type':'ineq', 'fun': constraint1}\n",
    "con2={'type':'ineq', 'fun': constraint2}\n",
    "con3={'type':'ineq', 'fun': constraint3}\n",
    "con4={'type':'ineq', 'fun': constraint4}\n",
    "con5={'type':'ineq', 'fun': constraint5}\n",
    "cons=[con1, con2, con3, con4, con5]\n",
    "\n",
    "C=10000000 # 10^7\n",
    "lista=np.linspace(1, 80, 400).tolist()\n",
    "list_A=np.linspace(1.5, 2, 6).tolist()\n",
    "val_p_min=100\n",
    "sol_p_min=[10, 10, 10, 10]\n",
    "\n",
    "for A in list_A:\n",
    "    for j in lista:\n",
    "        b1=(1, j)\n",
    "        b=(0.01, None)\n",
    "        # Cotas de las variables\n",
    "        bnds=(b, b, b, b1)\n",
    "        # No definimos tipo de solver\n",
    "        sol=minimize(objective, x0, bounds=bnds, constraints=cons)\n",
    "        # Nos aseguramos de que, en efecto, se satisfagan las restricciones\n",
    "        # Guardamos la mínima solución\n",
    "        if sol.fun<val_p_min and constraint1(sol.x)>0 and constraint2(sol.x)>0 and constraint3(sol.x)>0 and constraint4(sol.x)>0 and constraint5(sol.x)>0:\n",
    "            val_p_min=sol.fun\n",
    "            sol_p_min=sol.x\n",
    "    print(\"---------------------------- Solución ----------------------------\")\n",
    "    print(\"val(P)=\", val_p_min)\n",
    "    print(\"C1=1/%s\", A)\n",
    "    print(\"Solución del problema: a=%s, b=%s, c=%s, C2=1/%s\" %tuple(sol_p_min))\n",
    "    print(\"El valor de K1 es \", (4*sol_p_min[1]+sol_p_min[2]-4*sol_p_min[0])*(1/A))\n",
    "    print(\"El valor de K2 es \", (4*sol_p_min[1]+sol_p_min[2]-4*sol_p_min[0])*(1/sol_p_min[3]))"
   ]
  },
  {
   "cell_type": "markdown",
   "metadata": {},
   "source": [
    "Iteramos entre $A=1.5$ y $A=2$ con un paso de $0.1$, pues a partir de ahí no se obtiene una mejora en $val(S)$.\n",
    "\n",
    "Con lo siguiente vemos que una elección aproximada de $argmin(S)$ satisface las restricciones iniciales."
   ]
  },
  {
   "cell_type": "code",
   "execution_count": 8,
   "metadata": {},
   "outputs": [
    {
     "name": "stdout",
     "output_type": "stream",
     "text": [
      "argmin(P) aproximado: [0.4768, 4.2744, 0.01, 4.0622]\n",
      "El valor de K1 es  7.600200000000001\n",
      "El valor de K2 es  3.741913248978387\n",
      "val(P) app-val(P): 0.0001110279447189555\n",
      "C1(argmin(P)) aproximado: 0.057715418761567605\n",
      "C2(argmin(P)) aproximado: 0.0007550633280040131\n",
      "C3(argmin(P)) aproximado: 33.07955707136637\n",
      "C4(argmin(P)) aproximado: 3.3208\n"
     ]
    }
   ],
   "source": [
    "sol=[0.4768, 4.2744, 0.01,  4.0622]\n",
    "print(\"argmin(P) aproximado:\", sol)\n",
    "print(\"El valor de K1 es \", (4*sol[1]+sol[2]-4*sol[0])*(1/A))\n",
    "print(\"El valor de K2 es \", (4*sol[1]+sol[2]-4*sol[0])*(1/sol[3]))\n",
    "print(\"val(P) app-val(P):\", objective(sol)-objective(sol_p_min))\n",
    "print(\"C1(argmin(P)) aproximado:\", constraint1(sol))\n",
    "print(\"C2(argmin(P)) aproximado:\", constraint2(sol))\n",
    "print(\"C3(argmin(P)) aproximado:\", constraint3(sol))\n",
    "print(\"C4(argmin(P)) aproximado:\", constraint4(sol))"
   ]
  },
  {
   "cell_type": "markdown",
   "metadata": {},
   "source": [
    "Asimismo, vemos que con dicha elección no estamos muy lejos de $val(P)$ original."
   ]
  },
  {
   "cell_type": "code",
   "execution_count": 9,
   "metadata": {},
   "outputs": [
    {
     "name": "stdout",
     "output_type": "stream",
     "text": [
      "71.76495480288\n"
     ]
    }
   ],
   "source": [
    "sol_app=[0.4768, 4.2744, 0.01, 2, 4.0622]\n",
    "def objP(x):\n",
    "    a=x[0]\n",
    "    b=x[1]\n",
    "    c=x[2]\n",
    "    A=x[3]\n",
    "    B=x[4]\n",
    "    return ((4*b+c-4*a)**2)*(1/(A**2)+1/(B**2))\n",
    "print(objP(sol_app))"
   ]
  },
  {
   "cell_type": "markdown",
   "metadata": {},
   "source": [
    "## Conclusiones"
   ]
  },
  {
   "cell_type": "markdown",
   "metadata": {},
   "source": [
    "Para $C_1, C_2\\geq 1/80$, seleccionamos los parámetros aproximados a cuatro decimales\n",
    "$$a=0.4768,\\ b=4.2744,\\ c=0.01,\\ C_1=1/2,\\ C_2=1/4.0622.$$\n",
    "Con dicha elección la función objetivo evaluada en estos puntos es mayor a $val(P)$ y difiere en aproximadamente $1.1\\cdot 10^{-4}$. A partir de ello, en nuestro problema principal (en el cual interfieren otros parámetros que no se mencionan acá) $\\eta\\geq 23.25$."
   ]
  }
 ],
 "metadata": {
  "kernelspec": {
   "display_name": "Python 3",
   "language": "python",
   "name": "python3"
  },
  "language_info": {
   "codemirror_mode": {
    "name": "ipython",
    "version": 3
   },
   "file_extension": ".py",
   "mimetype": "text/x-python",
   "name": "python",
   "nbconvert_exporter": "python",
   "pygments_lexer": "ipython3",
   "version": "3.7.6"
  }
 },
 "nbformat": 4,
 "nbformat_minor": 4
}
