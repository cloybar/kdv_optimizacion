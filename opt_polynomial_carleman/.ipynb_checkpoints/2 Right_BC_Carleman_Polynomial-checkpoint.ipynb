{
 "cells": [
  {
   "cell_type": "code",
   "execution_count": 1,
   "metadata": {},
   "outputs": [],
   "source": [
    "import numpy as np\n",
    "import pandas as pd\n",
    "import scipy as sp\n",
    "from scipy.optimize import minimize"
   ]
  },
  {
   "cell_type": "markdown",
   "metadata": {},
   "source": [
    "## Problema principal"
   ]
  },
  {
   "cell_type": "markdown",
   "metadata": {},
   "source": [
    "Buscamos minimizar las cantidades \n",
    "$$K_1=(3a+3b+c)C_1$$ y $$K_2=(3a+3b+c)C_2$$ provenientes de la función\n",
    "$$K(\\tau)=K_1+K_2\\tau^{1/2}-\\tfrac{2}{3\\sqrt{3}}(\\tau-1)^{3/2}.$$\n",
    "\n",
    "Para esto, establecemos el problema de minimización $(P)$ dado por\n",
    "$$\\min_{(a, b, c, C_1, C_2)\\in X}\\ K_1^2+K_2^2$$\n",
    "donde $X\\subset \\mathbb{R}^5$ es el espacio de restricciones del problema."
   ]
  },
  {
   "cell_type": "markdown",
   "metadata": {},
   "source": [
    "## Problema de minimización\n",
    "\n",
    "Establecemos la función objetivo y las restricciones del problema $(P)$.\n",
    "\n",
    "*_Observación_*: por comodidad, en el código se consideró $C_1=A^{-1}$ y $C_2=B^{-1}$."
   ]
  },
  {
   "cell_type": "code",
   "execution_count": 2,
   "metadata": {},
   "outputs": [],
   "source": [
    "def objective(x):\n",
    "    a=x[0]\n",
    "    b=x[1]\n",
    "    c=x[2]\n",
    "    A=x[3]\n",
    "    B=x[4]\n",
    "    return ((3*a+3*b+c)**2)*(1/(A**2)+1/(B**2))\n",
    "def constraint1(x):\n",
    "    a=x[0]\n",
    "    b=x[1]\n",
    "    c=x[2]\n",
    "    A=x[3]\n",
    "    B=x[4]\n",
    "    return 14*a*(b**4)-1.5*((2*a+b)**3)*(A**2)-3*(2*a+b)*a*c*(A**2)-1.5*a*((2*a+b)**2)*(B**2)-0.75*c*(A**4)-0.125*(2*a+b)*(A**2)*(B**2)\n",
    "def constraint2(x):\n",
    "    a=x[0]\n",
    "    b=x[1]\n",
    "    c=x[2]\n",
    "    A=x[3]\n",
    "    B=x[4]\n",
    "    return 6*a*(b**2)-1.5*(2*a+b)*(A**2)-0.75*a*(B**2)\n",
    "def constraint3(x):\n",
    "    return x[2]-x[1]-x[0]\n"
   ]
  },
  {
   "cell_type": "code",
   "execution_count": 3,
   "metadata": {},
   "outputs": [],
   "source": [
    "x0=[1, 5, 1, 3, 3]\n",
    "\n",
    "#restricciones\n",
    "con1={'type':'ineq', 'fun': constraint1}\n",
    "con2={'type':'ineq', 'fun': constraint2}\n",
    "con3={'type':'ineq', 'fun': constraint3}\n",
    "cons=[con1, con2, con3]"
   ]
  },
  {
   "cell_type": "markdown",
   "metadata": {},
   "source": [
    "## Resolución"
   ]
  },
  {
   "cell_type": "code",
   "execution_count": 4,
   "metadata": {},
   "outputs": [
    {
     "name": "stdout",
     "output_type": "stream",
     "text": [
      "---------------------------- Solución ----------------------------\n",
      "val(P)= 74.25836304972984\n",
      "Solución del problema: a=0.7282984901312697, b=5.463395592997282, c=6.191694083128915, C1=1/3.254188166907062, C2=1/6.1278720057824705\n",
      "El valor de K1 es  7.610738857812919\n",
      "El valor de K2 es  4.041660189563977\n"
     ]
    }
   ],
   "source": [
    "lista=np.linspace(1, 100, 800).tolist()\n",
    "val_p_min=100\n",
    "sol_p_min=[10, 10, 10, 10, 10]\n",
    "\n",
    "for j in lista:\n",
    "    b1=(1, j)\n",
    "    b=(0.1, None)\n",
    "    # Cotas de las variables\n",
    "    bnds=(b, b, b, b1, b1)\n",
    "    sol=minimize(objective, x0, bounds=bnds, constraints=cons)\n",
    "    # Nos aseguramos de que, en efecto, se satisfagan las restricciones\n",
    "    # Guardamos la mínima solución\n",
    "    if sol.fun<val_p_min and constraint1(sol.x)>0 and constraint2(sol.x)>0 and constraint3(sol.x)>0:\n",
    "        val_p_min=sol.fun\n",
    "        sol_p_min=sol.x\n",
    "\n",
    "print(\"---------------------------- Solución ----------------------------\")\n",
    "print(\"val(P)=\", val_p_min)\n",
    "print(\"Solución del problema: a=%s, b=%s, c=%s, C1=1/%s, C2=1/%s\" %tuple(sol_p_min))\n",
    "print(\"El valor de K1 es \", (3*sol_p_min[0]+3*sol_p_min[1]+sol_p_min[2])*(1/sol_p_min[3]))\n",
    "print(\"El valor de K2 es \", (3*sol_p_min[0]+3*sol_p_min[1]+sol_p_min[2])*(1/sol_p_min[4]))"
   ]
  },
  {
   "cell_type": "code",
   "execution_count": 20,
   "metadata": {},
   "outputs": [
    {
     "name": "stdout",
     "output_type": "stream",
     "text": [
      "argmin(P) aproximado: [0.7283 5.4634 6.1917 3.2542 6.1279]\n",
      "val(P) app-val(P): -0.0004285702553374904\n",
      "C1(argmin(P)) aproximado: -0.05868383007128841\n",
      "C2(argmin(P)) aproximado: -0.0006664764142456647\n",
      "C3(argmin(P)) aproximado: 0.0\n"
     ]
    }
   ],
   "source": [
    "i=4\n",
    "print(\"argmin(P) aproximado:\", sol_p_min.round(i))\n",
    "print(\"val(P) app-val(P):\", objective(sol_p_min.round(i))-objective(sol_p_min))\n",
    "print(\"C1(argmin(P)) aproximado:\", constraint1(sol_p_min.round(i)))\n",
    "print(\"C2(argmin(P)) aproximado:\", constraint2(sol_p_min.round(i)))\n",
    "print(\"C3(argmin(P)) aproximado:\", constraint3(sol_p_min.round(i)))"
   ]
  },
  {
   "cell_type": "code",
   "execution_count": 41,
   "metadata": {},
   "outputs": [
    {
     "name": "stdout",
     "output_type": "stream",
     "text": [
      "val(P) aproximado: 74.2661790816014\n",
      "argmin(P) aproximado: [0.7283, 5.463, 6.1919, 3.2538, 6.1279]\n",
      "El valor de K1 es  7.7234925318089624\n",
      "El valor de K2 es  4.101029716542372\n",
      "val(P) app-val(P): 0.007816031871556106\n",
      "C1(argmin(P)) aproximado: 0.3273688760016853\n",
      "C2(argmin(P)) aproximado: 0.013608595161720416\n",
      "C3(argmin(P)) aproximado: 0.000600000000000378\n"
     ]
    }
   ],
   "source": [
    "sol=[0.7283, 5.463, 6.1919, 3.2538, 6.1279]\n",
    "print(\"val(P) aproximado:\", objective(sol))\n",
    "print(\"argmin(P) aproximado:\", sol)\n",
    "print(\"El valor de K1 es \", (4*sol[1]+sol[2]-4*sol[0])*(1/sol[3]))\n",
    "print(\"El valor de K2 es \", (4*sol[1]+sol[2]-4*sol[0])*(1/sol[4]))\n",
    "print(\"val(P) app-val(P):\", objective(sol)-objective(sol_p_min))\n",
    "print(\"C1(argmin(P)) aproximado:\", constraint1(sol))\n",
    "print(\"C2(argmin(P)) aproximado:\", constraint2(sol))\n",
    "print(\"C3(argmin(P)) aproximado:\", constraint3(sol))"
   ]
  },
  {
   "cell_type": "markdown",
   "metadata": {},
   "source": [
    "### Conclusión\n",
    "\n",
    "Para $C_1, C_2\\geq 1/100$ consideramos la solución aproximada a tres decimales\n",
    "\n",
    "$$a=0.7283,\\ b=5.463,\\ c=6.1919,\\ C_1=1/3.2538,\\ C_2=1/6.1279,$$\n",
    "donde\n",
    "$$val(P_{aprox})=74.2661,$$\n",
    "que es mayor a $val(P)$ y difere de este en $7.81\\cdot 10^{-3}$. \n",
    "\n",
    "A partir de esta elección se tiene que $\\eta\\geq 24.31.$\n",
    "\n",
    "Las conclusiones son similares al problema $1$."
   ]
  },
  {
   "cell_type": "code",
   "execution_count": null,
   "metadata": {},
   "outputs": [],
   "source": []
  }
 ],
 "metadata": {
  "kernelspec": {
   "display_name": "Python 3",
   "language": "python",
   "name": "python3"
  },
  "language_info": {
   "codemirror_mode": {
    "name": "ipython",
    "version": 3
   },
   "file_extension": ".py",
   "mimetype": "text/x-python",
   "name": "python",
   "nbconvert_exporter": "python",
   "pygments_lexer": "ipython3",
   "version": "3.7.6"
  }
 },
 "nbformat": 4,
 "nbformat_minor": 4
}
