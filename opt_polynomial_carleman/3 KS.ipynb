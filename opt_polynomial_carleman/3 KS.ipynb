{
 "cells": [
  {
   "cell_type": "code",
   "execution_count": 1,
   "metadata": {},
   "outputs": [],
   "source": [
    "import numpy as np\n",
    "import pandas as pd\n",
    "import scipy as sp\n",
    "from scipy.optimize import minimize"
   ]
  },
  {
   "cell_type": "code",
   "execution_count": 2,
   "metadata": {},
   "outputs": [],
   "source": [
    "def objective(x):\n",
    "    a=x[0]\n",
    "    b=x[1]\n",
    "    c=x[2]\n",
    "    A=x[3]\n",
    "    B=x[4]\n",
    "    return ((4*b+c-4*a)**2)*(1/(A**2)+1/(B**2))\n",
    "def constraint1(x):\n",
    "    a=x[0]\n",
    "    b=x[1]\n",
    "    c=x[2]\n",
    "    A=x[3]\n",
    "    B=x[4]\n",
    "    return 16*a*(b-2*a)**6-4*(b**4)*(A**3)/3-4*(b+c-a)*(A**6)/9-4*b*(A**3)*(B**3)/9-2*a*(b**3)*(B**3)-3.174802*(a**2)*(A**3)/(C)\n",
    "def constraint2(x):\n",
    "    a=x[0]\n",
    "    b=x[1]\n",
    "    c=x[2]\n",
    "    A=x[3]\n",
    "    B=x[4]\n",
    "    return 36*a*(b-2*a)**4-4*(b**2)*(A**3)-77.782651*(a**3)/(C)-4*(b+c-a)*a*(A**3)-9*a*b*(B**3)\n",
    "def constraint3(x):\n",
    "    a=x[0]\n",
    "    b=x[1]\n",
    "    c=x[2]\n",
    "    A=x[3]\n",
    "    B=x[4]\n",
    "    return 6*(b-2*a)**5-0.132283*(b-2*a)*(A**3)/(C**2)-38.097625*(a**2)*(b-2*a)/(C**2)-2*(b+c-a)*(b-2*a)*(A**3)/3-0.25*((b-2*a)**2)*(B**3)-(B**6)/(64*(b-2*a))\n",
    "def constraint4(x):\n",
    "    a=x[0]\n",
    "    b=x[1]\n",
    "    c=x[2]\n",
    "    A=x[3]\n",
    "    B=x[4]\n",
    "    return 10*(b-2*a)**3-0.125*(B**3)\n",
    "def constraint5(x):\n",
    "    return x[1]-2*x[0]\n",
    "\n",
    "#restricciones\n",
    "con1={'type':'ineq', 'fun': constraint1}\n",
    "con2={'type':'ineq', 'fun': constraint2}\n",
    "con3={'type':'ineq', 'fun': constraint3}\n",
    "con4={'type':'ineq', 'fun': constraint4}\n",
    "con5={'type':'ineq', 'fun': constraint5}\n",
    "cons=[con1, con2, con3, con4, con5]"
   ]
  },
  {
   "cell_type": "code",
   "execution_count": 3,
   "metadata": {},
   "outputs": [
    {
     "name": "stdout",
     "output_type": "stream",
     "text": [
      "---------------------------- Solución ----------------------------\n",
      "val(P)= 57.224110390213646\n",
      "Solución del problema: a=8.55479371622512, b=113.66974944701207, c=0.010000000001125471, C1=1/66.86380868385078, C2=1/100.0\n",
      "El valor de K1 es  6.2884515734249895\n",
      "El valor de K2 es  4.204698229231489\n"
     ]
    }
   ],
   "source": [
    "x0=[0.5, 8, 0.5, 1, 4]\n",
    "C=1000000 # 10^7\n",
    "lista=np.linspace(1, 100, 800).tolist()\n",
    "val_p_min=1000\n",
    "sol_p_min=[10, 10, 10, 10, 10]\n",
    "\n",
    "for j in lista:\n",
    "    b1=(1, j)\n",
    "    b=(0.01, None)\n",
    "    # Cotas de las variables\n",
    "    bnds=(b, b, b, b1, b1)\n",
    "    # No definimos tipo de solver\n",
    "    sol=minimize(objective, x0, bounds=bnds, constraints=cons)\n",
    "    # Nos aseguramos de que, en efecto, se satisfagan las restricciones\n",
    "    # Guardamos la mínima solución\n",
    "    if sol.fun<val_p_min and constraint1(sol.x)>0 and constraint2(sol.x)>0 and constraint3(sol.x)>0 and constraint4(sol.x)>0 and constraint5(sol.x)>0:\n",
    "        val_p_min=sol.fun\n",
    "        sol_p_min=sol.x\n",
    "        \n",
    "print(\"---------------------------- Solución ----------------------------\")\n",
    "print(\"val(P)=\", val_p_min)\n",
    "print(\"Solución del problema: a=%s, b=%s, c=%s, C1=1/%s, C2=1/%s\" %tuple(sol_p_min))\n",
    "print(\"El valor de K1 es \", (4*sol_p_min[1]+sol_p_min[2]-4*sol_p_min[0])*(1/sol_p_min[3]))\n",
    "print(\"El valor de K2 es \", (4*sol_p_min[1]+sol_p_min[2]-4*sol_p_min[0])*(1/sol_p_min[4]))"
   ]
  },
  {
   "cell_type": "code",
   "execution_count": 5,
   "metadata": {},
   "outputs": [
    {
     "name": "stdout",
     "output_type": "stream",
     "text": [
      "61.6290625\n",
      "El valor de K1 es  6.862499999999999\n",
      "El valor de K2 es  3.8125\n",
      "12365.941986812224\n",
      "906.7132961756542\n",
      "90707.30798876462\n",
      "3366.0\n"
     ]
    }
   ],
   "source": [
    "solp=[0.5, 8, 0.5, 40/9, 8]\n",
    "print(objective(solp))\n",
    "print(\"El valor de K1 es \", (4*solp[1]+solp[2]-4*solp[0])*(1/solp[3]))\n",
    "print(\"El valor de K2 es \", (4*solp[1]+solp[2]-4*solp[0])*(1/solp[4]))\n",
    "print(constraint1(solp))\n",
    "print(constraint2(solp))\n",
    "print(constraint3(solp))\n",
    "print(constraint4(solp))"
   ]
  },
  {
   "cell_type": "code",
   "execution_count": null,
   "metadata": {},
   "outputs": [],
   "source": []
  }
 ],
 "metadata": {
  "kernelspec": {
   "display_name": "Python 3",
   "language": "python",
   "name": "python3"
  },
  "language_info": {
   "codemirror_mode": {
    "name": "ipython",
    "version": 3
   },
   "file_extension": ".py",
   "mimetype": "text/x-python",
   "name": "python",
   "nbconvert_exporter": "python",
   "pygments_lexer": "ipython3",
   "version": "3.7.6"
  }
 },
 "nbformat": 4,
 "nbformat_minor": 4
}
